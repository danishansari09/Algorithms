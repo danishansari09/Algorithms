{
 "cells": [
  {
   "cell_type": "code",
   "execution_count": 24,
   "id": "4228900a-1204-4072-a8d6-ba7ecc12bc02",
   "metadata": {},
   "outputs": [],
   "source": [
    "import numpy as np\n",
    "import math"
   ]
  },
  {
   "cell_type": "code",
   "execution_count": 2,
   "id": "da148393-e617-442b-916c-f82e16e1cd45",
   "metadata": {},
   "outputs": [],
   "source": [
    "# Gradient Descent"
   ]
  },
  {
   "cell_type": "code",
   "execution_count": 82,
   "id": "67a31e51-8e16-4a00-af24-76b079489dfb",
   "metadata": {},
   "outputs": [
    {
     "name": "stdout",
     "output_type": "stream",
     "text": [
      "m 2.0000000002599894, b 2.9999999990613553, cost 1.694077086867124e-19, iteration 788\n"
     ]
    }
   ],
   "source": [
    "def gradient_descent_(X, y):\n",
    "    m_curr = b_curr = 0\n",
    "    iterations = 1000\n",
    "    n = len(X)\n",
    "    learning_rate = 0.08\n",
    "    cost_old = float('inf')  # Initialize cost_old to a large value\n",
    "    epsilon = 1e-20  # Small value for early stopping\n",
    "    X = np.array(X)\n",
    "    y = np.array(y)\n",
    "\n",
    "    for i in range(iterations):\n",
    "        y_predicted = m_curr * X + b_curr\n",
    "        cost_new = np.mean((y - y_predicted)**2)\n",
    "        md = -2 * np.mean(X * (y - y_predicted))\n",
    "        bd = -2 * np.mean(y - y_predicted)\n",
    "\n",
    "        m_curr = m_curr - learning_rate * md\n",
    "        b_curr = b_curr - learning_rate * bd\n",
    "\n",
    "        if np.abs(cost_old - cost_new) < epsilon:\n",
    "            break\n",
    "\n",
    "        cost_old = cost_new\n",
    "\n",
    "    print(\"m {}, b {}, cost {}, iteration {}\".format(m_curr, b_curr, cost_new, i+1))\n",
    "\n",
    "# Example usage:\n",
    "X = np.array([1, 2, 3, 4, 5])\n",
    "y = np.array([5, 7, 9, 11, 13])\n",
    "gradient_descent_(X, y)\n"
   ]
  },
  {
   "cell_type": "code",
   "execution_count": null,
   "id": "f65f7785-0e32-491b-9c0d-b7d28198aa75",
   "metadata": {},
   "outputs": [],
   "source": []
  }
 ],
 "metadata": {
  "kernelspec": {
   "display_name": "Python 3 (ipykernel)",
   "language": "python",
   "name": "python3"
  },
  "language_info": {
   "codemirror_mode": {
    "name": "ipython",
    "version": 3
   },
   "file_extension": ".py",
   "mimetype": "text/x-python",
   "name": "python",
   "nbconvert_exporter": "python",
   "pygments_lexer": "ipython3",
   "version": "3.11.4"
  }
 },
 "nbformat": 4,
 "nbformat_minor": 5
}
