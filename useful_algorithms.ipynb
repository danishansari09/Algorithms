{
 "cells": [
  {
   "cell_type": "code",
   "execution_count": 1,
   "id": "4228900a-1204-4072-a8d6-ba7ecc12bc02",
   "metadata": {},
   "outputs": [],
   "source": [
    "import numpy as np"
   ]
  },
  {
   "cell_type": "code",
   "execution_count": 2,
   "id": "da148393-e617-442b-916c-f82e16e1cd45",
   "metadata": {},
   "outputs": [],
   "source": [
    "# Gradient Descent"
   ]
  },
  {
   "cell_type": "code",
   "execution_count": 19,
   "id": "e16d50a4-8a49-4693-a464-7a94514de7c5",
   "metadata": {},
   "outputs": [],
   "source": [
    "def gradient_descent(X, y):\n",
    "    # Linear Equation --> y = mX + b\n",
    "    # \n",
    "    # Starts m and b from 0\n",
    "    m_curr = b_curr = 0\n",
    "    iterations = 10\n",
    "    n = len(X)\n",
    "    learning_rate = 0.01\n",
    "    for i in range(iterations):\n",
    "        y_predicted = m_curr * X + b_curr\n",
    "        cost = (1/n) * sum([val**2 for val in (y-y_predicted)])\n",
    "        md = - (2/n) * sum(X * (y - y_predicted))\n",
    "        bd = - (2/n) * sum(y - y_predicted)\n",
    "        m_curr = m_curr - learning_rate * md\n",
    "        b_curr = b_curr - learning_rate * bd\n",
    "        print (\"m {}, b {}, cost {}, iteration {}\".format(m_curr,b_curr,cost, i))"
   ]
  },
  {
   "cell_type": "code",
   "execution_count": 20,
   "id": "d16f1420-5c4e-475b-b552-55fa82fb62ff",
   "metadata": {},
   "outputs": [],
   "source": [
    "X = np.array([1,2,3,4,5])\n",
    "y = np.array([5,7,9,11,13])"
   ]
  },
  {
   "cell_type": "code",
   "execution_count": 21,
   "id": "24af4d6b-f8c5-44b9-87ca-948770b33bcf",
   "metadata": {},
   "outputs": [
    {
     "name": "stdout",
     "output_type": "stream",
     "text": [
      "m 0.62, b 0.18, cost 89.0, iteration 0\n",
      "m 1.0928, b 0.3192, cost 52.25039999999999, iteration 1\n",
      "m 1.453232, b 0.42724799999999996, cost 30.831949440000002, iteration 2\n",
      "m 1.7278860800000002, b 0.5115091199999999, cost 18.347751350784, iteration 3\n",
      "m 1.9370605952000002, b 0.5776057727999999, cost 11.070010749324897, iteration 4\n",
      "m 2.096250917888, b 0.6298300216319999, cost 6.826353152519786, iteration 5\n",
      "m 2.2172859146547204, b 0.6714583661260799, cost 4.350826141683065, iteration 6\n",
      "m 2.309195511463117, b 0.7049920439242751, cost 2.9056952040975976, iteration 7\n",
      "m 2.3788729763057748, b 0.7323404723580026, cost 2.0610450731046615, iteration 8\n",
      "m 2.431580493177024, b 0.7549612843324961, cost 1.5663423003130599, iteration 9\n"
     ]
    }
   ],
   "source": [
    "gradient_descent(X, y)"
   ]
  },
  {
   "cell_type": "code",
   "execution_count": null,
   "id": "90e4fc35-6355-40f6-ad72-98f89ab15d97",
   "metadata": {},
   "outputs": [],
   "source": []
  }
 ],
 "metadata": {
  "kernelspec": {
   "display_name": "Python 3 (ipykernel)",
   "language": "python",
   "name": "python3"
  },
  "language_info": {
   "codemirror_mode": {
    "name": "ipython",
    "version": 3
   },
   "file_extension": ".py",
   "mimetype": "text/x-python",
   "name": "python",
   "nbconvert_exporter": "python",
   "pygments_lexer": "ipython3",
   "version": "3.11.4"
  }
 },
 "nbformat": 4,
 "nbformat_minor": 5
}
